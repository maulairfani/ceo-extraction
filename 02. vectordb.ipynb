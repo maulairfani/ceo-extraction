{
 "cells": [
  {
   "cell_type": "code",
   "execution_count": 1,
   "id": "1076a72e",
   "metadata": {
    "execution": {
     "iopub.execute_input": "2025-01-21T01:22:19.473951Z",
     "iopub.status.busy": "2025-01-21T01:22:19.473592Z",
     "iopub.status.idle": "2025-01-21T01:22:22.276050Z",
     "shell.execute_reply": "2025-01-21T01:22:22.274814Z"
    },
    "papermill": {
     "duration": 2.811321,
     "end_time": "2025-01-21T01:22:22.278259",
     "exception": false,
     "start_time": "2025-01-21T01:22:19.466938",
     "status": "completed"
    },
    "tags": []
   },
   "outputs": [
    {
     "name": "stderr",
     "output_type": "stream",
     "text": [
      "c:\\Users\\maula\\Desktop\\CESGS\\CEO - Copy\\env\\lib\\site-packages\\pinecone\\data\\index.py:1: TqdmWarning: IProgress not found. Please update jupyter and ipywidgets. See https://ipywidgets.readthedocs.io/en/stable/user_install.html\n",
      "  from tqdm.autonotebook import tqdm\n"
     ]
    },
    {
     "data": {
      "text/plain": [
       "True"
      ]
     },
     "execution_count": 1,
     "metadata": {},
     "output_type": "execute_result"
    }
   ],
   "source": [
    "import json\n",
    "from pinecone import Pinecone\n",
    "from langchain_pinecone import PineconeVectorStore\n",
    "from langchain_openai import OpenAIEmbeddings\n",
    "from langchain_core.documents import Document\n",
    "import os\n",
    "import uuid\n",
    "import glob\n",
    "import sys\n",
    "import time\n",
    "from dotenv import load_dotenv\n",
    "load_dotenv()"
   ]
  },
  {
   "cell_type": "code",
   "execution_count": 2,
   "id": "c8cf6ea7",
   "metadata": {
    "_cell_guid": "b1076dfc-b9ad-4769-8c92-a6c4dae69d19",
    "_uuid": "8f2839f25d086af736a60e9eeb907d3b93b6e0e5",
    "execution": {
     "iopub.execute_input": "2025-01-21T01:22:22.318967Z",
     "iopub.status.busy": "2025-01-21T01:22:22.318497Z",
     "iopub.status.idle": "2025-01-21T01:22:22.337704Z",
     "shell.execute_reply": "2025-01-21T01:22:22.335754Z"
    },
    "papermill": {
     "duration": 0.030817,
     "end_time": "2025-01-21T01:22:22.340492",
     "exception": false,
     "start_time": "2025-01-21T01:22:22.309675",
     "status": "completed"
    },
    "tags": []
   },
   "outputs": [],
   "source": [
    "class VectorDB:\n",
    "    def __init__(self):\n",
    "        self.index_name = os.getenv(\"PINECONE_INDEX\")\n",
    "        self.index = Pinecone(api_key=os.getenv(\"PINECONE_API_KEY\")).Index(self.index_name)\n",
    "        self.embedding = OpenAIEmbeddings(model=os.environ[\"EMBEDDINGS\"], api_key=os.getenv(\"OPENAI_API_KEY\"))\n",
    "        self.vector_store = PineconeVectorStore(index=self.index, embedding=self.embedding)\n",
    "\n",
    "    def partition_text(self, text, max_size=40000):\n",
    "        num_parts = -(-sys.getsizeof(text) // max_size)  # Ceiling division\n",
    "        part_size = len(text) // num_parts\n",
    "\n",
    "        return [text[i * part_size:None if i == num_parts - 1 else (i + 1) * part_size] for i in range(num_parts)]\n",
    "\n",
    "    def add_items(self, json_path: str):\n",
    "        docs, ids = self._load_docs(json_path)\n",
    "\n",
    "        batch_size = 100\n",
    "        for i in range(0, len(docs), batch_size):\n",
    "            batch_docs = docs[i:i + batch_size]\n",
    "            batch_ids = ids[i:i + batch_size]\n",
    "            \n",
    "            # Menambahkan batch ke vector store\n",
    "            self.vector_store.add_documents(documents=batch_docs, ids=batch_ids)\n",
    "        return ids\n",
    "\n",
    "    def _load_docs(self, json_path: str):\n",
    "        with open(json_path, 'r') as f:\n",
    "            data = json.load(f)\n",
    "\n",
    "        basename = os.path.basename(json_path)[:-5]\n",
    "        docs, ids = [], []\n",
    "\n",
    "        for doc in data:\n",
    "            page_content = doc[\"page_content\"]\n",
    "            doc_metadata = {\n",
    "                \"page\": doc[\"metadata\"][\"page\"],\n",
    "                \"company\": basename\n",
    "            }\n",
    "\n",
    "            # Partition content if necessary\n",
    "            parts = self.partition_text(page_content) if sys.getsizeof(page_content) > 40960 else [page_content]\n",
    "\n",
    "            for part in parts:\n",
    "                doc_id = str(uuid.uuid4())\n",
    "                docs.append(Document(page_content=part, metadata=doc_metadata))\n",
    "                ids.append(doc_id)\n",
    "\n",
    "        return docs, ids"
   ]
  },
  {
   "cell_type": "code",
   "execution_count": 3,
   "id": "4ab6aa87",
   "metadata": {},
   "outputs": [
    {
     "data": {
      "text/plain": [
       "1"
      ]
     },
     "execution_count": 3,
     "metadata": {},
     "output_type": "execute_result"
    }
   ],
   "source": [
    "# ADJUSTABLE\n",
    "\n",
    "files = glob.glob(\"data/JSON/*/*.json\")\n",
    "files = [os.path.normpath(f) for f in files]\n",
    "len(files)"
   ]
  },
  {
   "cell_type": "code",
   "execution_count": 4,
   "id": "9deed00d",
   "metadata": {
    "execution": {
     "iopub.execute_input": "2025-01-21T01:22:22.355103Z",
     "iopub.status.busy": "2025-01-21T01:22:22.354583Z",
     "iopub.status.idle": "2025-01-21T02:55:59.567707Z",
     "shell.execute_reply": "2025-01-21T02:55:59.566477Z"
    },
    "papermill": {
     "duration": 5617.244004,
     "end_time": "2025-01-21T02:55:59.590912",
     "exception": false,
     "start_time": "2025-01-21T01:22:22.346908",
     "status": "completed"
    },
    "tags": []
   },
   "outputs": [
    {
     "name": "stdout",
     "output_type": "stream",
     "text": [
      "[1/1] Processing: ID_ADRO_AR_2022.json\n",
      "✅ Selesai dalam 53.68 detik\n",
      "\n"
     ]
    }
   ],
   "source": [
    "vectordb = VectorDB()\n",
    "\n",
    "start_total = time.time()\n",
    "for idx, file_path in enumerate(files, 1):\n",
    "    file_name = os.path.basename(file_path)\n",
    "    start_time = time.time()\n",
    "    \n",
    "    print(f\"[{idx}/{len(files)}] Processing: {file_name}\")\n",
    "    \n",
    "    # Proses file\n",
    "    vectordb.add_items(file_path)\n",
    "    \n",
    "    # Hitung waktu\n",
    "    elapsed = time.time() - start_time\n",
    "    print(f\"✅ Selesai dalam {elapsed:.2f} detik\\n\")"
   ]
  },
  {
   "cell_type": "code",
   "execution_count": null,
   "id": "982c9e4d",
   "metadata": {
    "papermill": {
     "duration": 0.022121,
     "end_time": "2025-01-21T02:55:59.635434",
     "exception": false,
     "start_time": "2025-01-21T02:55:59.613313",
     "status": "completed"
    },
    "tags": []
   },
   "outputs": [],
   "source": []
  }
 ],
 "metadata": {
  "kaggle": {
   "accelerator": "none",
   "dataSources": [
    {
     "datasetId": 6517183,
     "sourceId": 10531267,
     "sourceType": "datasetVersion"
    }
   ],
   "dockerImageVersionId": 30839,
   "isGpuEnabled": false,
   "isInternetEnabled": true,
   "language": "python",
   "sourceType": "notebook"
  },
  "kernelspec": {
   "display_name": "env",
   "language": "python",
   "name": "python3"
  },
  "language_info": {
   "codemirror_mode": {
    "name": "ipython",
    "version": 3
   },
   "file_extension": ".py",
   "mimetype": "text/x-python",
   "name": "python",
   "nbconvert_exporter": "python",
   "pygments_lexer": "ipython3",
   "version": "3.10.7"
  },
  "papermill": {
   "default_parameters": {},
   "duration": 5636.639595,
   "end_time": "2025-01-21T02:56:00.587817",
   "environment_variables": {},
   "exception": null,
   "input_path": "__notebook__.ipynb",
   "output_path": "__notebook__.ipynb",
   "parameters": {},
   "start_time": "2025-01-21T01:22:03.948222",
   "version": "2.6.0"
  }
 },
 "nbformat": 4,
 "nbformat_minor": 5
}
