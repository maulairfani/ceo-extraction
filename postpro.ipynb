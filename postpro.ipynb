{
 "cells": [
  {
   "cell_type": "code",
   "execution_count": null,
   "metadata": {},
   "outputs": [],
   "source": [
    "import ast\n",
    "import pandas as pd"
   ]
  },
  {
   "cell_type": "code",
   "execution_count": 30,
   "metadata": {},
   "outputs": [],
   "source": [
    "data = pd.read_excel(\"results_2nd_turn/result.xlsx\")\n",
    "\n",
    "# Mengonversi string yang terlihat seperti dictionary menjadi dictionary yang sesungguhnya\n",
    "data['education_bachelor'] = data['education_bachelor'].apply(lambda x: ast.literal_eval(x))\n",
    "data['education_master'] = data['education_master'].apply(lambda x: ast.literal_eval(x))\n",
    "data['education_doctoral'] = data['education_doctoral'].apply(lambda x: ast.literal_eval(x))\n",
    "\n",
    "# Memisahkan nilai dictionary ke dalam kolom terpisah\n",
    "data[['major_bachelor', 'univ_bachelor', 'country_bachelor']] = data['education_bachelor'].apply(pd.Series)\n",
    "data[['major_master', 'univ_master', 'country_master']] = data['education_master'].apply(pd.Series)\n",
    "data[['major_doctoral', 'univ_doctoral', 'country_doctoral']] = data['education_doctoral'].apply(pd.Series)\n",
    "\n",
    "data = data.drop(['education_master', 'education_bachelor', 'education_doctoral'], axis=1)\n",
    "\n",
    "columns = [\n",
    "    'company',\n",
    "    'name',\n",
    "    'position',\n",
    "    'start_tenure',\n",
    "    'end_tenure',\n",
    "    'gender',\n",
    "    'birthdate_or_age',\n",
    "    'nationality',\n",
    "    'working_experience',\n",
    "    'major_bachelor',\n",
    "    'univ_bachelor',\n",
    "    'country_bachelor',\n",
    "    'major_master',\n",
    "    'univ_master',\n",
    "    'country_master',\n",
    "    'major_doctoral',\n",
    "    'univ_doctoral',\n",
    "    'country_doctoral',\n",
    "    'sources',\n",
    "]\n",
    "\n",
    "data = data[columns]"
   ]
  },
  {
   "cell_type": "code",
   "execution_count": 32,
   "metadata": {},
   "outputs": [],
   "source": [
    "data.to_excel(\"results_2nd_turn/result_postpro.xlsx\", index=False)"
   ]
  }
 ],
 "metadata": {
  "kernelspec": {
   "display_name": "env",
   "language": "python",
   "name": "python3"
  },
  "language_info": {
   "codemirror_mode": {
    "name": "ipython",
    "version": 3
   },
   "file_extension": ".py",
   "mimetype": "text/x-python",
   "name": "python",
   "nbconvert_exporter": "python",
   "pygments_lexer": "ipython3",
   "version": "3.10.7"
  }
 },
 "nbformat": 4,
 "nbformat_minor": 2
}
