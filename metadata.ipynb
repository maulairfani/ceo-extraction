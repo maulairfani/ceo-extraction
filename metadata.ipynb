{
 "cells": [
  {
   "cell_type": "code",
   "execution_count": 1,
   "metadata": {},
   "outputs": [],
   "source": [
    "from langchain_community.utilities import GoogleSerperAPIWrapper\n",
    "from langchain_openai import ChatOpenAI\n",
    "from langchain_core.tools import BaseTool\n",
    "import os\n",
    "from dotenv import load_dotenv\n",
    "load_dotenv()\n",
    "\n",
    "class WebBrowserTool(BaseTool):\n",
    "    name: str = \"google_serper\"\n",
    "    description: str = \"Tool untuk web browsing\"\n",
    "\n",
    "    def _run(self, input: str):\n",
    "        search = GoogleSerperAPIWrapper(serper_api_key=os.getenv(\"SERPER_API_KEY\"))\n",
    "        results = search.results(input)\n",
    "\n",
    "        return results"
   ]
  },
  {
   "cell_type": "code",
   "execution_count": null,
   "metadata": {},
   "outputs": [],
   "source": [
    "from langchain.agents import AgentExecutor, create_tool_calling_agent\n",
    "from langchain_core.prompts import ChatPromptTemplate\n",
    "\n",
    "prompt = ChatPromptTemplate.from_messages(\n",
    "    [\n",
    "        (\"system\", \"You are a helpful assistant\"),\n",
    "        (\"human\", \"{input}\"),\n",
    "        # Placeholders fill up a **list** of messages\n",
    "        (\"placeholder\", \"{agent_scratchpad}\"),\n",
    "    ]\n",
    ")\n",
    "\n",
    "model = ChatOpenAI(model='gpt-4o-mini', api_key=os.getenv(\"OPENAI_API_KEY\"))\n",
    "tools = [WebBrowserTool()]\n",
    "\n",
    "agent = create_tool_calling_agent(model, tools, prompt)\n",
    "agent_executor = AgentExecutor(agent=agent, tools=tools, return_intermediate_steps=True)"
   ]
  },
  {
   "cell_type": "code",
   "execution_count": 48,
   "metadata": {},
   "outputs": [],
   "source": [
    "prompt = \"\"\"\n",
    "Tugasmu adalah mencari metadata dari perusahaan {company}.\n",
    "Kamu dapat menggunakan tools google_serper untuk mencari metadata dari internet.\n",
    "Berikut ini adalah daftar metadata yang harus dicari!\n",
    "    company_name: str = Field(\n",
    "        ..., \n",
    "        description=\"Nama perusahaan berdasarkan badan hukumnya\", \n",
    "        examples=[\"Indofood CBP Sukses Makmur Tbk\"]\n",
    "    )\n",
    "    country: str = Field(\n",
    "        ..., \n",
    "        description=\"Negara asal perusahaan, bukan negara tempat beroperasi\", \n",
    "        examples=[\"Indonesia\"]\n",
    "    )\n",
    "    region: str = Field(\n",
    "        ..., \n",
    "        description=\"Region asal perusahaan\", \n",
    "        examples=[\"South East Asia\", \"Europe\"]\n",
    "    )\n",
    "    sector: str = Field(\n",
    "        ..., \n",
    "        description=\"Sektor utama di mana perusahaan beroperasi\", \n",
    "        examples=[\"Consumer Goods\", \"Financial Services\"]\n",
    "    )\n",
    "    subsector: str = Field(\n",
    "        ..., \n",
    "        description=\"Subsektor yang lebih spesifik dari sektor utama\", \n",
    "        examples=[\"Food and Beverages\", \"Banking\"]\n",
    "    )\n",
    "    industry: str = Field(\n",
    "        ..., \n",
    "        description=\"Industri spesifik yang terkait dengan subsektor\", \n",
    "        examples=[\"Packaged Foods\", \"Commercial Banks\"]\n",
    "    )\n",
    "    subindustry: str = Field(\n",
    "        ..., \n",
    "        description=\"Subindustri yang lebih rinci dari industri\", \n",
    "        examples=[\"Instant Noodles\", \"Retail Banking\"]\n",
    "    )\n",
    "    ticker: Optional[str] = Field(\n",
    "        ..., \n",
    "        description=\"Kode saham perusahaan (jika tersedia)\", \n",
    "        examples=[\"ICBP\", \"BBCA\"]\n",
    "    )\n",
    "    website: Optional[str] = Field(\n",
    "        None, \n",
    "        description=\"URL resmi dari website perusahaan\", \n",
    "        examples=[\"https://www.indofood.com\"]\n",
    "    )\n",
    "\n",
    "\"\"\"\n",
    "\n",
    "formatted_prompt = prompt.format(company=\"Merck Tbk\")\n",
    "response = agent_executor.invoke({\"input\": formatted_prompt})"
   ]
  },
  {
   "cell_type": "code",
   "execution_count": 49,
   "metadata": {},
   "outputs": [],
   "source": [
    "from pydantic import BaseModel, Field\n",
    "from typing import Optional\n",
    "\n",
    "class CompanyMetadata(BaseModel):\n",
    "    company_name: str = Field(\n",
    "        ..., \n",
    "        description=\"Nama perusahaan berdasarkan badan hukumnya\", \n",
    "        examples=[\"Indofood CBP Sukses Makmur Tbk\"]\n",
    "    )\n",
    "    country: str = Field(\n",
    "        ..., \n",
    "        description=\"Negara asal perusahaan, bukan negara tempat beroperasi\", \n",
    "        examples=[\"Indonesia\"]\n",
    "    )\n",
    "    region: str = Field(\n",
    "        ..., \n",
    "        description=\"Region asal perusahaan\", \n",
    "        examples=[\"South East Asia\", \"Europe\"]\n",
    "    )\n",
    "    sector: str = Field(\n",
    "        ..., \n",
    "        description=\"Sektor utama di mana perusahaan beroperasi\", \n",
    "        examples=[\"Consumer Goods\", \"Financial Services\"]\n",
    "    )\n",
    "    subsector: str = Field(\n",
    "        ..., \n",
    "        description=\"Subsektor yang lebih spesifik dari sektor utama\", \n",
    "        examples=[\"Food and Beverages\", \"Banking\"]\n",
    "    )\n",
    "    industry: str = Field(\n",
    "        ..., \n",
    "        description=\"Industri spesifik yang terkait dengan subsektor\", \n",
    "        examples=[\"Packaged Foods\", \"Commercial Banks\"]\n",
    "    )\n",
    "    subindustry: str = Field(\n",
    "        ..., \n",
    "        description=\"Subindustri yang lebih rinci dari industri\", \n",
    "        examples=[\"Instant Noodles\", \"Retail Banking\"]\n",
    "    )\n",
    "    ticker: Optional[str] = Field(\n",
    "        ..., \n",
    "        description=\"Kode saham perusahaan (jika tersedia)\", \n",
    "        examples=[\"ICBP\", \"BBCA\"]\n",
    "    )\n",
    "    website: Optional[str] = Field(\n",
    "        None, \n",
    "        description=\"URL resmi dari website perusahaan\", \n",
    "        examples=[\"https://www.indofood.com\"]\n",
    "    )\n"
   ]
  },
  {
   "cell_type": "code",
   "execution_count": 50,
   "metadata": {},
   "outputs": [],
   "source": [
    "sllm = model.with_structured_output(CompanyMetadata)\n",
    "structured_response = sllm.invoke(response['output'])"
   ]
  },
  {
   "cell_type": "code",
   "execution_count": 51,
   "metadata": {},
   "outputs": [
    {
     "data": {
      "text/plain": [
       "{'company_name': 'PT Merck Tbk',\n",
       " 'country': 'Indonesia',\n",
       " 'region': 'South East Asia',\n",
       " 'sector': 'Healthcare',\n",
       " 'subsector': 'Pharmaceuticals',\n",
       " 'industry': 'Drug Manufacturers - Specialty & Generic',\n",
       " 'subindustry': 'Prescription Medicines',\n",
       " 'ticker': 'MERK',\n",
       " 'website': 'https://www.merckgroup.com/id-en'}"
      ]
     },
     "execution_count": 51,
     "metadata": {},
     "output_type": "execute_result"
    }
   ],
   "source": [
    "structured_response.model_dump()"
   ]
  },
  {
   "cell_type": "code",
   "execution_count": null,
   "metadata": {},
   "outputs": [],
   "source": []
  },
  {
   "cell_type": "code",
   "execution_count": null,
   "metadata": {},
   "outputs": [],
   "source": []
  }
 ],
 "metadata": {
  "kernelspec": {
   "display_name": "env",
   "language": "python",
   "name": "python3"
  },
  "language_info": {
   "codemirror_mode": {
    "name": "ipython",
    "version": 3
   },
   "file_extension": ".py",
   "mimetype": "text/x-python",
   "name": "python",
   "nbconvert_exporter": "python",
   "pygments_lexer": "ipython3",
   "version": "3.10.7"
  }
 },
 "nbformat": 4,
 "nbformat_minor": 2
}
