{
 "cells": [
  {
   "cell_type": "code",
   "execution_count": null,
   "metadata": {},
   "outputs": [],
   "source": [
    "import glob\n",
    "import os\n",
    "import json\n",
    "import pandas as pd\n",
    "from tqdm import tqdm\n",
    "import time\n",
    "from pydantic import BaseModel, Field\n",
    "from dotenv import load_dotenv\n",
    "from scripts.report_agent import ReportAgent\n",
    "\n",
    "load_dotenv()"
   ]
  },
  {
   "cell_type": "code",
   "execution_count": null,
   "metadata": {},
   "outputs": [],
   "source": [
    "# Fungsi untuk membuat direktori jika belum ada\n",
    "def create_output_directory(output_path: str):\n",
    "    \"\"\"\n",
    "    Ensure that the output directory exists.\n",
    "    \"\"\"\n",
    "    os.makedirs(os.path.dirname(output_path), exist_ok=True)\n",
    "\n",
    "# Fungsi untuk memproses satu putaran data (first turn atau second turn)\n",
    "def process_turn(query_prompt: str, schema_class: BaseModel, input_dir: str, output_dir: str, input_file: str = None, glob_path: str = \"*/*.json\"):\n",
    "    \"\"\"\n",
    "    Process a single round of data extraction (first or second turn) and save the results to the specified output directory.\n",
    "    \n",
    "    Args:\n",
    "    - query_prompt (str): The query prompt for the report extraction.\n",
    "    - schema_class (BaseModel): The schema class for validating the extracted data.\n",
    "    - input_dir (str): The directory containing input JSON files.\n",
    "    - output_dir (str): The directory where the results will be saved.\n",
    "    - input_file (str, optional): If provided, the function will filter data based on this file (e.g., the first turn results).\n",
    "    - glob_path (str, optional): The glob pattern to match input files. Default is \"*/*.json\".\n",
    "    \"\"\"\n",
    "    # Create the output directory if it does not exist\n",
    "    os.makedirs(output_dir, exist_ok=True)\n",
    "    \n",
    "    # Define the list of files to process based on the glob pattern\n",
    "    files = glob.glob(os.path.join(input_dir, glob_path))\n",
    "    \n",
    "    # Check if files exist, and raise an error if not\n",
    "    if not files:\n",
    "        raise FileNotFoundError(f\"No files matched the glob pattern: '{glob_path}' in directory '{input_dir}'\")\n",
    "    \n",
    "    # Process each file\n",
    "    for file in tqdm(files, desc=\"Processing Companies\"):\n",
    "        try:\n",
    "            company = os.path.splitext(os.path.basename(file))[0]\n",
    "            agent = ReportAgent(os.environ[\"LLM\"], schema_class, query_prompt)\n",
    "            \n",
    "            # Handle data processing for first or second turn\n",
    "            if input_file:\n",
    "                # For the second turn, filter data based on the input Excel file\n",
    "                fdata = pd.read_excel(input_file)\n",
    "                fdata = fdata[fdata['company'] == company]\n",
    "                fdata = fdata.drop(\"sources\", axis=1)\n",
    "                \n",
    "                # Loop through each row of filtered data\n",
    "                for idx, row in fdata.iterrows():\n",
    "                    prompt_data = row.to_dict()\n",
    "                    result = agent.get_data(prompt_data)\n",
    "                    result['data'].update(prompt_data)\n",
    "                    \n",
    "                    # Generate output path and save result\n",
    "                    relative_path = os.path.relpath(file, input_dir)\n",
    "                    output_path = os.path.join(output_dir, relative_path).replace(\".json\", f\"_{idx+1}.json\")\n",
    "                    create_output_directory(output_path)\n",
    "                    with open(output_path, 'w') as f:\n",
    "                        json.dump(result, f, indent=4)\n",
    "            else:\n",
    "                # For the first turn, directly use the company data\n",
    "                result = agent.get_data({'company': company})\n",
    "                result['data']['company'] = company\n",
    "                \n",
    "                # Generate output path and save result\n",
    "                relative_path = os.path.relpath(file, input_dir)\n",
    "                output_path = os.path.join(output_dir, relative_path)\n",
    "                create_output_directory(output_path)\n",
    "                with open(output_path, 'w') as f:\n",
    "                    json.dump(result, f, indent=4)\n",
    "                    \n",
    "        except Exception as e:\n",
    "            print(f\"\\nError processing {company}: {str(e)}\")\n",
    "        \n",
    "        # Pause to avoid overloading the API\n",
    "        time.sleep(30)\n",
    "    \n",
    "    # After processing all files, save results to an Excel file\n",
    "    save_results_to_excel(output_dir)\n",
    "\n",
    "# Fungsi untuk menyimpan hasil pemrosesan ke dalam file Excel\n",
    "def save_results_to_excel(output_dir: str):\n",
    "    \"\"\"\n",
    "    Save the processed results into an Excel file after extraction.\n",
    "    \"\"\"\n",
    "    output_files = glob.glob(os.path.join(output_dir, \"*\", \"*.json\"))\n",
    "    output_list = []\n",
    "    \n",
    "    for file in output_files:\n",
    "        with open(file, 'r') as f:\n",
    "            result = json.load(f)\n",
    "        result['data'].update({'sources': result['sources']})\n",
    "        output_list.append(result['data'])\n",
    "    \n",
    "    output_df = pd.DataFrame(output_list)\n",
    "    output_df.to_excel(f\"{output_dir}/result.xlsx\", index=False)"
   ]
  },
  {
   "cell_type": "markdown",
   "metadata": {},
   "source": [
    "### Start here"
   ]
  },
  {
   "cell_type": "markdown",
   "metadata": {},
   "source": [
    "First Turn\n",
    "- Siapkan query prompt dengan placeholder {company}\n",
    "- Siapkan schema / variabel yang ingin di-crawl\n",
    "- Siapkan `input_dir`, `output_dir`, dan `glob_path`\n",
    "\n",
    "    `input_dir` dan `glob_path` saling berhubungan. Input direktori adalah tempat file json disimpan.\n",
    "\n",
    "    Misalnya, file json terletak di path `data/JSON/AR/ID_ADRO_AR_2022.json`. \n",
    "\n",
    "    Maka `input_dir` bisa berupa `data`, lalu `glob_path`-nya adalah `*/*/*.json`\n",
    "    ATAU jika `input_dir` berupa `data/JSON`, lalu `glob_path`-nya adalah `*/*.json`"
   ]
  },
  {
   "cell_type": "code",
   "execution_count": 53,
   "metadata": {},
   "outputs": [
    {
     "name": "stderr",
     "output_type": "stream",
     "text": [
      "Processing Companies:   0%|          | 0/1 [00:00<?, ?it/s]"
     ]
    },
    {
     "name": "stdout",
     "output_type": "stream",
     "text": [
      "\n",
      "\n",
      "\u001b[1m> Entering new Invoke Agent chain...\u001b[0m\n",
      "\u001b[32;1m\u001b[1;3m\n",
      "Invoking: `retriever_tool` with `{'query': 'CEO name in ID_ADRO_AR_2022 company report'}`\n",
      "\n",
      "\n",
      "\u001b[0m\u001b[36;1m\u001b[1;3m[Document(id='c3ec5584-4d43-4683-aadc-d3ae716f9e0f', metadata={'company': 'ID_ADRO_AR_2022', 'page': 502.0}, page_content=\"## STATEMENT OF RESPONSIBILITY\\n\\n## PENYATAAN TANGGUNG JAWAB MANAJEMEN\\n\\nThe Board of Commissioners and Board of Directors of PT Adaro Energy Indonesia Tbk hereby state that all information contained within the 2022 Annual Report of PT Adaro Energy Indonesia Tbk has been presented comprehensively, hence we assume full responsibility for the accuracy of information under the Company's Annual Report.\\n\\nApril 19, 2023\\n\\nDewan Komisaris dan Direksi PT Adaro Energy Indonesia Tbk dengan ini menyatakan bahwa semua informasi dalam Laporan Tahunan PT Adaro Energy Indonesia Tbk tahun 2022 telah disajikan secara lengkap dan oleh karenanya kami bertanggung jawab penuh atas kebeneran isi Laporan Tahunan Perusahaan.\\n\\n19 April 2023\\n\\n## BOARD OF COMMISSIONERS\\n\\nDEWAN KOMISARIS\\n\\n<!-- image -->\\n\\nTheodore Permadi Rachmat\\n\\nCommissioner Komisaris\\n\\nBOARD OF DIRECORS\\n\\nDIREKSI\\n\\n<!-- image -->\\n\\nEdwin Soeryadjaya\\n\\nPresident Commissioner\\n\\nPresiden Komisaris\\n\\n<!-- image -->\\n\\nMohammad Effendi\\n\\nIndependent Commissioner\\n\\nKomisaris Independen\\n\\n<!-- image -->\\n\\n<!-- image -->\\n\\nGaribaldi Thohir\\n\\nPresident Director\\n\\nPresiden Direktur\\n\\nChia Ah Hoo Director Direktur\\n\\n<!-- image -->\\n\\nChristian Ariano Rachmat\\n\\nVice President Director\\n\\nWakil Presiden Direktur\\n\\n<!-- image -->\\n\\nM. Syah Indra Aman\\n\\nDirector\\n\\nDirektur\\n\\n<!-- image -->\\n\\nArini Saraswaty Subianto\\n\\nCommissioner Komisaris\\n\\n<!-- image -->\\n\\nBudi Bowoleksono\\n\\nIndependent Commissioner\\n\\nKomisaris Independen\\n\\n<!-- image -->\\n\\nMichael William P. Soeryadjaya\\n\\nDirector\\n\\nDirektur\\n\\n<!-- image -->\\n\\nJulius Aslan\\n\\nDirector\\n\\nDirektur\"), Document(id='98d2ba72-2b86-4c0d-b787-90fc67050974', metadata={'company': 'ID_ADRO_AR_2022', 'page': 2.0}, page_content='PT Adaro Energy Indonesia Tbk\\n\\n2\\n\\n2\\n\\n2022\\n\\nAnnual Report'), Document(id='1dc89132-c192-4fe1-97a5-09969a0d95d5', metadata={'company': 'ID_ADRO_AR_2022', 'page': 141.0}, page_content='<!-- image -->\\n\\n<!-- image -->\\n\\n<!-- image -->\\n\\n<!-- image -->\\n\\n<!-- image -->\\n\\n<!-- image -->\\n\\n## ORGANIZATIONAL STRUCTURE\\n\\nPT ADARO ENERGY INDONESIA TBK - STRATEGIC BUSINESS UNITS AS OF DECEMBER 31, 2022\\n\\n<!-- image -->\\n\\n<!-- image -->\\n\\n: Executive In Charge'), Document(id='d5051436-888c-450c-951c-5c11b992d856', metadata={'company': 'ID_ADRO_AR_2022', 'page': 140.0}, page_content='<!-- image -->\\n\\n## ORGANIZATIONAL STRUCTURE\\n\\nPT ADARO ENERGY INDONESIA TBK - CORPORATE FUNCTIONS AS OF DECEMBER 31, 2022\\n\\n<!-- image -->\\n\\n<!-- image -->')]\u001b[0m\u001b[32;1m\u001b[1;3mThe CEO of PT Adaro Energy Indonesia Tbk, as mentioned in the ID_ADRO_AR_2022 company report, is Garibaldi Thohir, who holds the position of President Director (Presiden Direktur).\u001b[0m\n",
      "\n",
      "\u001b[1m> Finished chain.\u001b[0m\n"
     ]
    },
    {
     "name": "stderr",
     "output_type": "stream",
     "text": [
      "Processing Companies: 100%|██████████| 1/1 [00:44<00:00, 44.90s/it]\n"
     ]
    }
   ],
   "source": [
    "# FIRST TURN\n",
    "\n",
    "# QUERY PROMPT\n",
    "query_prompt_1 = \"\"\"\n",
    "Retrieve the name of the ceo for {company} from the company's report.\n",
    "\"\"\"\n",
    "\n",
    "# SCHEMA\n",
    "class GovernanceBody(BaseModel):\n",
    "    ceo_name: str = Field(description=\"Nama CEO atau presiden direktur dari perusahaan\", example=\"Maula Irfani\")\n",
    "\n",
    "# Proses first turn\n",
    "process_turn(\n",
    "    query_prompt=query_prompt_1,\n",
    "    schema_class=GovernanceBody,\n",
    "    input_dir=\"data/JSON\",\n",
    "    output_dir=\"results_1st_turn\",\n",
    "    glob_path=\"*/*.json\"\n",
    ")"
   ]
  },
  {
   "cell_type": "markdown",
   "metadata": {},
   "source": [
    "Second Turn\n",
    "\n",
    "- Siapkan query prompt yang memiliki placeholder sesuai variabel yang ingin dicari, dimana variabel tersebut seharusnya sudah didapatkan dari first turn.\n",
    "- Masukkan parameter tambahan yaitu `input_file` yang merupakan hasil dari path excel hasil dari first turn"
   ]
  },
  {
   "cell_type": "code",
   "execution_count": 54,
   "metadata": {},
   "outputs": [
    {
     "name": "stderr",
     "output_type": "stream",
     "text": [
      "Processing Companies:   0%|          | 0/1 [00:00<?, ?it/s]"
     ]
    },
    {
     "name": "stdout",
     "output_type": "stream",
     "text": [
      "{'ceo_name': 'Garibaldi Thohir', 'company': 'ID_ADRO_AR_2022'}\n",
      "\n",
      "\n",
      "\u001b[1m> Entering new Invoke Agent chain...\u001b[0m\n",
      "\u001b[32;1m\u001b[1;3m\n",
      "Invoking: `retriever_tool` with `{'query': \"Garibaldi Thohir bachelor's degree education ID_ADRO_AR_2022\"}`\n",
      "\n",
      "\n",
      "\u001b[0m\u001b[36;1m\u001b[1;3m[Document(id='8563ab1b-926e-48d5-a3ec-e3eca3c23acc', metadata={'company': 'ID_ADRO_AR_2022', 'page': 123.0}, page_content='Citizenship I Kewarganegaraan\\n\\nIndonesian I Indonesia\\n\\n## Age I Usia\\n\\n57 as at 31 December 2022\\n\\n57 per tanggal 31 Desember 2022\\n\\n## Education History I Riwayat Pendidikan\\n\\nBachelor of Business Administration, University of Southern California, USA MBA, Northrop University, California, USA S1 Business Administration, University of Southern California, AS S2 MBA, Northrop University, California, AS\\n\\n## Legal Basis of Appointment at PT Adaro Energy Indonesia Tbk\\n\\nDasar Hukum Pengangkatan di PT Adaro Energy Indonesia Tbk\\n\\nDeed No. 62 of April 18, 2008, and re-appointed based on Deed No.31 of May 20, 2021 Akta No. 62 tanggal 18 April 2008, dan diangkat kembali berdasarkan Akta No. 31 tanggal 20 Mei 2021\\n\\n## Career History I Riwayat Jabatan\\n\\nWork Experience I Pengalaman Kerja\\n\\n- · Founder, PT Wahana Ottomitra Multiartha (1997)\\n\\n## Concurrent Position  I Jabatan Rangkap\\n\\n- • President Director, PT Adaro Energy Indonesia Tbk\\n- • President Commissioner, PT Adaro Minerals Indonesia Tbk\\n- • President Director, PT Adaro Strategic Investments\\n\\n•\\n\\nPresident Director, PT Adaro Strategic Lestari\\n\\n- • President Director, PT Adaro Strategic Capital\\n- • President Director, PT Viscaya Investments\\n- • President Director, PT Dianlia Setyamukti\\n- • Steering Committee, Adaro Bangun Negeri Foundation\\n\\n•\\n\\nPresident Commissioner, PT Alam Tri Abadi\\n\\n•\\n\\nPresident Commissioner, PT Alam Tri Bangun Indonesia\\n\\n- • President Commissioner, PT Alam Tri Day Indonesia\\n\\n•\\n\\nPresident Commissioner, PT Adaro Indonesia\\n\\n•\\n\\nPresident Commissioner, PT Bhakti Energi Persada\\n\\n- • President Commissioner, PT Maruwai Coal\\n\\n•\\n\\nPresident Commissioner, PT Kalteng Coal\\n\\n- • President Commissioner, PT Sumber Barito Coal\\n- • President Commissioner, PT Juloi Coal\\n\\n•\\n\\nPresident Commissioner, PT Lahai Coal\\n\\n•\\n\\nPresident Commissioner, PT Ratah Coal\\n\\n- • President Commissioner, PT Pari Coal\\n- • President Commissioner, PT Mustika Indah Permai\\n\\n•\\n\\nPresident Commissioner, PT Bukit Enim Energy\\n\\n- • President Commissioner, PT Adaro Power\\n\\n•\\n\\nPresident Commissioner, PT Adaro Persada Mandiri\\n\\n•\\n\\nPresident Commissioner, PT Agri Multi Lestari\\n\\n- • President Commissioner, PT Rehabilitasi Lingkungan Indonesia\\n- •\\n\\nPresident Commissioner, PT Cakra Wana Lestari\\n\\n- • President Commissioner, PT Mandiri Wana Lestari\\n- •\\n\\nPresident Commissioner, PT Persada Wana Lestari\\n\\n•\\n\\nPresident Commissioner, PT Adaro Tirta Mandiri\\n\\n•\\n\\nPresident Commissioner, PT Adaro Clean Energy Indonesia\\n\\n- • Commissioner, PT Merdeka Gold Copper\\n- • President Commissioner, PT Wahana Artha Harsaka\\n- • Commissioner, PT Surya Esa Perkasa Tbk\\n- •\\n\\nPresident Commissioner, PT Trinugraha Food Industry\\n\\n- • Director, PT Trinugraha Thohir\\n- • President Commissioner, PT GoTo Gojek Tokopedia Tbk (formerly PT Aplikasi\\n- Karya Anak Bangsa)\\n- • President Commissioner, PT Puncak Emas Tani Sejahtera\\n\\n•\\n\\nPresident Commissioner, PT Bumi Suksesindo\\n\\n- •\\n\\nPresident Commissioner, Padangbara Sukses Makmur\\n\\n•\\n\\nPresident Commissioner, PT Pani Bersama Tambang\\n\\n- • President Commissioner, PT Sahari Sukses Investama\\n- • Commissioner, PT Wahana Artha Mandiri\\n\\n•\\n\\nPresident Commissioner, PT Wahana Makmur Sejati\\n\\n•\\n\\nPresident Commissioner, PT Tri Star Transindo\\n\\n- • Commissioner, PT Mitra Amanah Investama\\n- • Commissioner, PT Mitrajaya Amanah Cemerlang\\n- • Commissioner, PT Sahari Investama Sejahtera\\n\\n- · Director, PT Sejahteramulia Langgeng Hutama\\n\\n<!-- image -->\\n\\nA Snapshot of Adaro Energy Indonesia Sekilas Adaro Energy Indonesia\\n\\n<!-- image -->\\n\\n## Garibaldi Thohir\\n\\nPresident Director and Chief Executive Officer Presiden Direktur dan Chief Executive Officer\\n\\nOur\\n\\nBusinesses\\n\\nOur\\n\\nBusinesses\\n\\n<!-- image -->\\n\\n<!-- image -->\\n\\n<!-- image -->\\n\\n<!-- image -->\\n\\n## Training and Competency Development\\n\\nPelatihan dan Pengembangan Kompetensi None I Tidak ada\\n\\n## Affiliated Relationship I Hubungan Afiliasi\\n\\nAffiliated with the controlling shareholders of PT Adaro Energy Indonesia Tbk. Memiliki hubungan afiliasi dengan pemegang saham pengendali PT Adaro Energy Indonesia Tbk.\\n\\n## Domicile I Domisili\\n\\nJakarta I Jakarta\\n\\n## Share Ownership I Jumlah Kepemilikan Saham\\n\\n6.18% I 6,18%\\n\\n- · Pendiri, PT Wahana Ottomitra Multiartha (1997)\\n\\n·\\n\\nPresiden Direktur, PT Adaro Energy Indonesia Tbk\\n\\n·\\n\\nPresiden Komisaris, PT Adaro Minerals Indonesia Tbk\\n\\n·\\n\\nDirektur Utama, PT Adaro Strategic Investments\\n\\n·\\n\\nDirektur Utama, PT Adaro Strategic Lestari\\n\\n·\\n\\nDirektur Utama, PT Adaro Strategic Capital\\n\\n·\\n\\nPresiden Direktur, PT Viscaya Investments\\n\\n- · Presiden Direktur, PT Dianlia Setyamukti\\n\\n·\\n\\nPembina, Yayasan Adaro Bangun Negeri\\n\\n·\\n\\nKomisaris Utama, PT Alam Tri Abadi\\n\\n- · Komisaris Utama, PT Alam Tri Bangun Indonesia\\n\\n·\\n\\nKomisaris Utama, PT Alam Tri Daya Indonesia\\n\\n·\\n\\nPresiden Komisaris, PT Adaro Indonesia\\n\\n·\\n\\nPresiden Komisaris, PT Bhakti Energi Persada\\n\\n·\\n\\nPresiden Komisaris, PT Maruwai Coal\\n\\n·\\n\\nPresiden Komisaris, PT Kalteng Coal\\n\\n·\\n\\nPresiden Komisaris, PT Sumber Barito Coal\\n\\n·\\n\\nPresiden Komisaris, PT Juloi Coal\\n\\n·\\n\\nPresiden Komisaris, PT Lahai Coal\\n\\n·\\n\\nPresiden Komisaris, PT Ratah Coal\\n\\n·\\n\\nPresiden Komisaris, PT Pari Coal\\n\\n·\\n\\nKomisaris Utama, PT Mustika Indah Permai\\n\\n·\\n\\nKomisaris Utama, PT Bukit Enim Energy\\n\\n·\\n\\nKomisaris Utama, PT Adaro Power\\n\\n·\\n\\nKomisaris Utama, PT Adaro Persada Mandiri\\n\\n·\\n\\nKomisaris Utama, PT Agri Multi Lestari\\n\\n·\\n\\nKomisaris Utama, PT Rehabilitasi Lingkungan Indonesia\\n\\n·\\n\\nKomisaris Utama, PT Cakra Wana Lestari\\n\\n·\\n\\nKomisaris Utama, PT Mandiri Wana Lestari\\n\\n·\\n\\nKomisaris Utama, PT Persada Wana Lestari\\n\\n·\\n\\nKomisaris Utama, PT Adaro Tirta Mandiri\\n\\n- · Presiden Komisaris, PT Adaro Clean Energy Indonesia\\n\\n·\\n\\nKomisaris, PT Merdeka Gold Copper\\n\\n- · Komisaris Utama, PT Wahana Artha Harsaka\\n- · Komisaris, PT Surya Esa Perkasa Tbk\\n- · Komisaris Utama, PT Trinugraha Food Industry\\n- · Direktur, PT Trinugraha Thohir\\n- · Komisaris Utama, PT GoTo Gojek Tokopedia Tbk (formerly PT Aplikasi Karya Anak Bangsa)\\n- · Komisaris Utama, PT Puncak Emas Tani Sejahtera\\n- · Komisaris Utama, PT Bumi Suksesindo\\n- · Komisaris Utama, Padangbara Sukses Makmur\\n- · Komisaris Utama, PT Pani Bersama Tambang\\n- · Komisaris Utama, PT Sahari Sukses Investama\\n- · Komisaris, PT Wahana Artha Mandiri\\n- · Komisaris Utama, PT Wahana Makmur Sejati\\n- · Komisaris Utama, PT Tri Star Transindo\\n- · Komisaris, PT Mitra Amanah Investama\\n- · Komisaris, PT Mitrajaya Amanah Cemerlang\\n- · Komisaris, PT Sahari Investama Sejahtera\\n- · Direktur, PT Sejahteramulia Langgeng Hutama\\n\\n<!-- image -->\\n\\n<!-- image -->'), Document(id='eae6d60d-36e6-481f-a65e-546962980dbf', metadata={'company': 'ID_ADRO_AR_2022', 'page': 124.0}, page_content=\"<!-- image -->\\n\\n<!-- image -->\\n\\nCitizenship I Kewarganegaraan\\n\\nIndonesian I Indonesia\\n\\n## Age I Usia\\n\\n50 as at 31 December 2022\\n\\n50 per tanggal 31 Desember 2022\\n\\n## Education History I Riwayat Pendidikan\\n\\nBachelor's degree in Industrial Engineering, Northwestern University, Illinois, USA S1 Teknik Industri, Northwestern University, Illinois, AS\\n\\n## Legal Basis of Appointment at PT Adaro Energy Indonesia Tbk\\n\\nDasar Hukum Pengangkatan di PT Adaro Energy Indonesia Tbk\\n\\nDeed No. 62 of April 18, 2008 , and re-appointed based on Deed No.31 of May 20, 2021 Akta No. 62 tanggal 18 April 2008, dan diangkat kembali berdasarkan Akta No. 31 tanggal 20 Mei 2021\\n\\n## Career History I Riwayat Jabatan\\n\\n## Work Experience I Pengalaman Kerja\\n\\n- · Business analyst, A.T. Kearney (1995)\\n- · Supply chain engineer, PT Toyota Astra Motors (1996 to 1998)\\n\\n## Concurrent Position  I Jabatan Rangkap\\n\\n- • Vice President Director, PT Adaro Energy Indonesia Tbk\\n\\n•\\n\\nPresident Director, PT Adaro Minerals Indonesia Tbk\\n\\n- • Director, PT Adaro Strategic Investments\\n- • Director, PT Adaro Strategic Lestari\\n\\n•\\n\\nDirector, PT Adaro Strategic Capital\\n\\n•\\n\\n- Director, PT Viscaya Investments\\n- • Director, PT Dianlia Setyamukti\\n- • Director, Adaro International (Singapore) Pte. Ltd.\\n- • Director, Adaro Capital Limited\\n- • Director, Kestrel Coal Resources Pty Ltd\\n\\n•\\n\\nDirector, Kestrel Coal Group Pty Ltd\\n\\n- • Commissioner, PT Alam Tri Abadi\\n- • Commissioner, PT Alam Tri Bangun Indonesia\\n- • President Director, PT Alam Tri Cakra Indonesia • Commissioner, PT Alam Tri Daya Indonesia\\n- • Commissioner, PT Adaro Indonesia\\n\\n•\\n\\n- Commissioner, PT Bhakti Energi Persada\\n- • Commissioner, PT Maruwai Coal\\n- • Commissioner, PT Kalteng Coal,\\n\\n•\\n\\nCommissioner, PT Sumber Barito Coal\\n\\n•\\n\\nCommissioner, PT Juloi Coal\\n\\n•\\n\\nCommissioner, PT Lahai Coal\\n\\n•\\n\\nCommissioner, PT Ratah Coal\\n\\n•\\n\\nCommissioner, PT Pari Coal\\n\\n•\\n\\nCommissioner, PT Mustika Indah Permai\\n\\n•\\n\\nCommissioner, PT Adaro Power\\n\\n•\\n\\nPresident Commissioner, PT Kaltara Power Indonesia\\n\\n•\\n\\nCommissioner, PT Adaro Tirta Mandiri\\n\\n•\\n\\nPresident Director, PT Adaro Clean Energy Indonesia\\n\\n•\\n\\nPresident Commissioner, PT Batam Sarana Surya\\n\\n•\\n\\nPresident Commissioner, PT Karimun Sarana Surya\\n\\n- • President Commissioner, PT Batam Surya Energi\\n\\n•\\n\\n- President Commissioner, PT Karimun Industri Surya Semesta\\n\\n•\\n\\nPresident Commissioner, PT Kalimantan Energi Hijau\\n\\n- • President Commissioner, PT Mentarang Tirta Energi\\n- • Commissioner, PT Kayan Hydropower Nusantara\\n\\n•\\n\\nPresident Commissioner, PT Adaro Indo Aluminium\\n\\n- • President Commissioner, PT Kalimantan Aluminium Industry\\n- • President Director, PT Adaro Baterai Indonesia\\n- • Director, PT Triputra Investindo Arya\\n- • Director, PT Trikirana Investindo Prima\\n\\n•\\n\\nPresident Director, PT Dharma Inti Anugerah\\n\\n- • President Director, PT Alam Lestari Permai\\n\\n•\\n\\nPresident Director, PT Sinar Ganda Jaya\\n\\n- • President Director, PT Alam Permata Nusantara,\\n- • Commissioner, PT Triputra Permata Nusantara\\n- • Commissioner, PT Padangbara Sukses Makmur\\n- • Vice President Commissioner, PT Bumi Alam Sejahtera\\n- • President Commissioner, PT Triputra Visi Energi\\n\\n•\\n\\nWakil Presiden Direktur, PT Adaro Energy Indonesia Tbk\\n\\n•\\n\\nPresiden Direktur, PT Adaro Minerals Indonesia Tbk\\n\\n•\\n\\nDirektur, PT Adaro Strategic Investments\\n\\n•\\n\\nDirektur, PT Adaro Strategic Lestari\\n\\n•\\n\\nDirektur, PT Adaro Strategic Capital\\n\\n•\\n\\nDirektur, PT Viscaya Investments\\n\\n•\\n\\nDirektur, PT Dianlia Setyamukti\\n\\n•\\n\\nDirektur, Adaro International (Singapore) Pte. Ltd.\\n\\n•\\n\\nDirektur, Adaro Capital Limited\\n\\n•\\n\\nDirektur, Kestrel Coal Resources Pty Ltd\\n\\n•\\n\\nDirektur, Kestrel Coal Group Pty Ltd\\n\\n•\\n\\nKomisaris, PT Alam Tri Abadi\\n\\n•\\n\\nKomisaris, PT Alam Tri Bangun Indonesia\\n\\n•\\n\\nDirektur Utama, PT Alam Tri Cakra Indonesia\\n\\n•\\n\\nKomisaris, PT Alam Tri Daya Indonesia\\n\\n•\\n\\nKomisaris, PT Adaro Indonesia\\n\\n•\\n\\nKomisaris, PT Bhakti Energi Persada\\n\\n•\\n\\nKomisaris, PT Maruwai Coal\\n\\n•\\n\\nKomisaris, PT Kalteng Coal,\\n\\n•\\n\\nKomisaris, PT Sumber Barito Coal\\n\\n•\\n\\nKomisaris, PT Juloi Coal\\n\\n•\\n\\nKomisaris, PT Lahai Coal\\n\\n•\\n\\nKomisaris, PT Ratah Coal\\n\\n•\\n\\nKomisaris, PT Pari Coal\\n\\n•\\n\\nKomisaris, PT Mustika Indah Permai\\n\\n•\\n\\nKomisaris, PT Adaro Power\\n\\n•\\n\\nPresiden Komisaris, PT Kaltara Power Indonesia\\n\\n•\\n\\nKomisaris, PT Adaro Tirta Mandiri\\n\\n•\\n\\nPresiden Direktur, PT Adaro Clean Energy Indonesia\\n\\n•\\n\\nPresiden Komisaris, PT Batam Sarana Surya\\n\\n•\\n\\nPresiden Komisaris, PT Karimun Sarana Surya\\n\\n•\\n\\nPresiden Komisaris, PT Batam Surya Energi\\n\\n•\\n\\nPresiden Komisaris, PT Karimun Industri Surya Semesta\\n\\n•\\n\\nKomisaris Utama, PT Kalimantan Energi Hijau\\n\\n•\\n\\nKomisaris Utama, PT Mentarang Tirta Energi\\n\\n•\\n\\nKomisaris, PT Kayan Hydropower Nusantara\\n\\n•\\n\\nKomisaris Utama, PT Adaro Indo Aluminium\\n\\n•\\n\\nKomisaris Utama, PT Kalimantan Aluminium Industry\\n\\n•\\n\\nDirektur Utama, PT Adaro Baterai Indonesia\\n\\n•\\n\\nDirektur, PT Triputra Investindo Arya\\n\\n•\\n\\nDirektur, PT Trikirana Investindo Prima\\n\\n•\\n\\nDirektur Utama, PT Dharma Inti Anugerah\\n\\n•\\n\\nDirektur Utama, PT Alam Lestari Permai\\n\\n- • Direktur Utama, PT Sinar Ganda Jaya\\n- • Direktur Utama, PT Alam Permata Nusantara,\\n- • Komisaris, PT Triputra Permata Nusantara\\n- • Komisaris, PT Padangbara Sukses Makmur\\n\\n•\\n\\nWakil Presiden Komisaris, PT Bumi Alam Sejahtera\\n\\n- • Presiden Komisaris, PT Triputra Visi Energi\\n\\n## Christian Ariano Rachmat\\n\\nVice President Director and Deputy Chief Executive Officer Wakil Presiden Direktur dan Deputy Chief Executive Officer\\n\\n## Training and Competency Development\\n\\nPelatihan dan Pengembangan Kompetensi None I Tidak ada\\n\\n## Affiliated Relationship I Hubungan Afiliasi\\n\\nAffiliated with the controlling shareholders of PT Adaro Energy Indonesia Tbk. Memiliki hubungan afiliasi dengan pemegang saham pengendali PT Adaro Energy Indonesia Tbk.\\n\\n## Domicile I Domisili\\n\\nJakarta I Jakarta\\n\\n## Share Ownership I Jumlah Kepemilikan Saham\\n\\n0.05% I 0,05%\\n\\n- · Business analyst, A.T. Kearney (1995)\\n- · Supply chain engineer, PT Toyota Astra Motors (1996 to 1998)\"), Document(id='9c00218a-3da4-440a-bcd0-baf9b1d89ba1', metadata={'company': 'ID_ADRO_AR_2022', 'page': 121.0}, page_content=\"<!-- image -->\\n\\n<!-- image -->\\n\\n<!-- image -->\\n\\nCitizenship I Kewarganegaraan\\n\\nIndonesian I Indonesia\\n\\n## Age I Usia\\n\\n68 as at 31 December 2022\\n\\n68 per tanggal 31 Desember 2022\\n\\n## Education History I Riwayat Pendidikan\\n\\nBachelor's Degree in Electrical Engineering, Bandung Institute of Technology, Indonesia\\n\\nS1 Teknik Elektro, Institut Teknologi Bandung, Indonesia\\n\\n## Legal Basis of Appointment at PT Adaro Energy Indonesia Tbk\\n\\nDasar Hukum Pengangkatan di PT Adaro Energy Indonesia Tbk Deed No. 9 of 11 June, 2019 Akta No. 9, tanggal 11 Juni 2019\\n\\n## Career History I Riwayat Jabatan\\n\\nWork Experience I Pengalaman Kerja\\n\\n- · Supply Chain Director, PT Unilever Indonesia Tbk (2003 - 2009)\\n- · President Director, PT Adaro Power (2012-2019)\\n- · President Director, PT Bhimasena Power Indonesia (2014-2016)\\n- · President Commissioner, PT Makmur Sejahtera Wisesa (2016-2019)\\n- · President Commissioner, PT Tanjung Power Indonesia(2017-2019)\\n- · President Commissioner, PT Bhimasena Power Indonesia (2016-August 2021)\\n\\n## Concurrent Position  I Jabatan Rangkap\\n\\n- · Independent Commissioner, PT Adaro Energy Indonesia Tbk.\\n- · Independent Commissioner, PT Adaro Minerals Indonesia Tbk.\\n- · Trustee, Adaro Bangun Negeri Foundation\\n- · President Commissioner, PT Balangan Anugerah Semesta\\n\\nA Snapshot of Adaro Energy Indonesia Sekilas Adaro Energy Indonesia\\n\\n<!-- image -->\\n\\nOur\\n\\nBusinesses\\n\\nOur\\n\\nBusinesses\\n\\nSustainable Development Pembangunan yang Berkelanjutan\\n\\nPartners in the Capital Market Mitra Pasar Modal\\n\\n<!-- image -->\\n\\n## Mohammad Effendi\\n\\nIndependent Commissioner I Komisaris Independen\\n\\n## Training and Competency Development\\n\\nPelatihan dan Pengembangan Kompetensi None I Tidak ada\\n\\n## Affiliated Relationship I Hubungan Afiliasi\\n\\nNone I Tidak ada\\n\\n## Domicile I Domisili\\n\\nJakarta I Jakarta\\n\\nShare Ownership I Jumlah Kepemilikan Saham 0\\n\\n- · Direktur Supply Chain, PT Unilever Indonesia Tbk (2003 - 2009)\\n- · Presiden Direktur, PT Adaro Power (2012-2019)\\n- · Presiden Direktur, PT Bhimasena Power Indonesia (2014-2016)\\n- · Presiden Komisaris, PT Makmur Sejahtera Wisesa (2016-2019)\\n- · Presiden Komisaris, PT Tanjung Power Indonesia (2017-2019)\\n- · Presiden Komisaris, PT Bhimasena Power Indonesia (2016-Agustus 2021)\\n- · Komisaris Independen, PT Adaro Energy Indonesia Tbk.\\n- · Komisaris Independen PT Adaro Minerals Indonesia Tbk.\\n- · Pengawas, Yayasan Adaro Bangun Negeri\\n- · Komisaris Utama, PT Balangan Anugerah Semesta\\n\\n<!-- image -->\\n\\n<!-- image -->\"), Document(id='359187fb-d78e-4d52-86f5-108e770ce282', metadata={'company': 'ID_ADRO_AR_2022', 'page': 127.0}, page_content=\"<!-- image -->\\n\\nCitizenship I Kewarganegaraan\\n\\nIndonesian I Indonesia\\n\\n## Age I Usia\\n\\n55 as at 31 December 2022\\n\\n55 per tanggal 31 Desember 2022\\n\\n## Education History I Riwayat Pendidikan\\n\\nBachelor's Degree in Law, University of Indonesia, Indonesia LLM (Master of Laws), University of Washington, USA S1 Hukum, Universitas Indonesia, Indonesia S2 Hukum, University of Washington, AS\\n\\n## Legal Basis of Appointment at PT Adaro Energy Indonesia Tbk\\n\\nDasar Hukum Pengangkatan di PT Adaro Energy Indonesia Tbk Deed No. 126 of 20 April 2011, and re-appointed based on Deed No.31 of May 20, 2021 Akta No. 126 tanggal 20 April 2011, diangkat kembali berdasarkan Akta No. 31 tanggal 20 Mei 2021\\n\\n## Career History I Riwayat Jabatan\\n\\n## Work Experience I Pengalaman Kerja\\n\\n·\\n\\nLawyer, Minang, Warman, Sofyan SH & Associates\\n\\n- · Lawyer, Lubis, Ganie & Surowidjojo\\n\\n## Concurrent Position  I Jabatan Rangkap\\n\\n- • Director, PT Adaro Energy Indonesia Tbk\\n- • Director, PT Alam Tri Abadi\\n- • Director, PT Alam Tri Bangun Indonesia\\n- • Commissioner, PT Alam Tri Cakra Indonesia\\n- • Director, PT Alam Tri Daya Indonesia\\n- • Commissioner, PT Adaro Indonesia\\n- • Commissioner, PT Paramitha Cipta Sarana\\n\\n•\\n\\nCommissioner, PT Semesta Centramas\\n\\n- • Commissioner, PT Laskar Semesta Alam\\n- • Commissioner, PT Maruwai Coal\\n\\n•\\n\\nCommissioner, PT Kalteng Coal\\n\\n•\\n\\nCommissioner, PT Sumber Barito Coal\\n\\n•\\n\\nCommissioner, PT Juloi Coal\\n\\n•\\n\\nCommissioner, PT Lahai Coal\\n\\n•\\n\\nCommissioner, PT Ratah Coal\\n\\n•\\n\\nCommissioner, PT Pari Coal\\n\\n•\\n\\nCommissioner, PT Mustika Indah Permai\\n\\n•\\n\\n- Commissioner, PT Saptaindra Sejati\\n\\n•\\n\\n- Commissioner, PT Adaro Jasabara Indonesia\\n\\n•\\n\\nCommissioner, PT Adaro Mining Technologies\\n\\n- • President Commissioner, PT Adaro Logistics\\n\\n•\\n\\n- President Commissioner, PT Indonesia Bulk Terminal\\n\\n•\\n\\nPresident Commissioner, PT Puradika Bongkar Muat Makmur\\n\\n- • President Commissioner, PT Maritim Barito Perkasa\\n\\n•\\n\\nPresident Commissioner, PT Harapan Bahtera Internusa\\n\\n•\\n\\nCommissioner, PT Barito Galangan Nusantara\\n\\n- • Commissioner, PT Adaro Power\\n- • Commissioner, PT Adaro Persada Mandiri\\n- • Commissioner, PT Agri Multi Lestari\\n- • Commissioner, PT Rehabilitasi Lingkungan Indonesia\\n\\n•\\n\\nPresident Commissioner, PT Alam Sukses Lestari\\n\\n- • President Commissioner, PT Hutan Amanah Lestari\\n- • Commissioner, PT Cakra Wana Lestari\\n\\n•\\n\\nCommissioner, PT Mandiri Wana Lestari\\n\\n•\\n\\nCommissioner, PT Persada Wana Lestari\\n\\n- • Commissioner, PT Adaro Tirta Mandiri\\n- • Commissioner, PT Adaro Clean Energy Indonesia\\n\\n•\\n\\nCommissioner, PT Adaro Minerals Indonesia Tbk\\n\\n- • Commissioner, PT Adaro Baterai Indonesia\\n- • Director, Adaro  International (Singapore) Pte Ltd\\n- • Director, Adaro Capital Limited\\n- • Director, Kestrel Coal Resources Pty Ltd\\n- • Director, Kestrel Coal Group Pty Ltd\\n- • Director, Adaro Australia Pty Ltd\\n\\n•\\n\\nDirektur, PT Adaro Energy Indonesia Tbk\\n\\n•\\n\\nDirektur, PT Alam Tri Abadi\\n\\n•\\n\\nDirektur, PT Alam Tri Bangun Indonesia\\n\\n•\\n\\nKomisaris, PT Alam Tri Cakra Indonesia\\n\\n•\\n\\nDirektur, PT Alam Tri Daya Indonesia\\n\\n- • Komisaris, PT Adaro Indonesia\\n- •\\n\\nKomisaris, PT Paramitha Cipta Sarana\\n\\n•\\n\\nKomisaris, PT Semesta Centramas\\n\\n•\\n\\nKomisaris, PT Laskar Semesta Alam\\n\\n- • Komisaris, PT Maruwai Coal\\n\\n•\\n\\nKomisaris, PT Kalteng Coal\\n\\n•\\n\\nKomisaris, PT Sumber Barito Coal\\n\\n•\\n\\nKomisaris, PT Juloi Coal\\n\\n•\\n\\nKomisaris, PT Lahai Coal Komisaris, PT Ratah Coal\\n\\n•\\n\\n•\\n\\nKomisaris, PT Pari Coal\\n\\n•\\n\\nKomisaris, PT Mustika Indah Permai\\n\\n•\\n\\nKomisaris, PT Saptaindra Sejati\\n\\n•\\n\\n- Komisaris, PT Adaro Jasabara Indonesia\\n\\n•\\n\\nKomisaris, PT Adaro Mining Technologies\\n\\n•\\n\\nPresiden Komisaris, PT Adaro Logistics\\n\\n- • Presiden Komisaris, PT Indonesia Bulk Terminal\\n\\n•\\n\\nKomisaris Utama, PT Puradika Bongkar Muat Makmur\\n\\n•\\n\\nKomisaris Utama, PT Maritim Barito Perkasa\\n\\n•\\n\\nKomisaris Utama, PT Harapan Bahtera Internusa\\n\\n•\\n\\nKomisaris Utama, PT Barito Galangan Nusantara\\n\\n•\\n\\nKomisaris, PT Adaro Power\\n\\n- • Komisaris, PT Adaro Persada Mandiri\\n\\n•\\n\\nKomisaris, PT Agri Multi Lestari\\n\\n•\\n\\nKomisaris, PT Rehabilitasi Lingkungan Indonesia\\n\\n•\\n\\nKomisaris Utama, PT Alam Sukses Lestari\\n\\n- • Komisaris Utama, PT Hutan Amanah Lestari\\n\\n•\\n\\nKomisaris, PT Cakra Wana Lestari\\n\\n•\\n\\nKomisaris, PT Persada Wana Lestari\\n\\n- • Komisaris, PT Mandiri Wana Lestari\\n- • Komisaris, PT Adaro Tirta Mandiri\\n- • Komisaris, PT Adaro Clean Energy Indonesia\\n\\n•\\n\\nKomisaris, PT Adaro Minerals Indonesia Tbk\\n\\n- • Komisaris, PT Adaro Baterai Indonesia\\n- • Direktur, Adaro International (Singapore) Pte Ltd\\n- • Direktur, Adaro Capital Limited\\n- • Direktur, Kestrel Coal Resources Pty Ltd\\n\\n•\\n\\nDirektur, Kestrel Coal Group Pty Ltd\\n\\n- • Direktur, Adaro Australia Pty Ltd\\n\\n<!-- image -->\\n\\n<!-- image -->\\n\\nA Snapshot of Adaro Energy Indonesia Sekilas Adaro Energy Indonesia\\n\\n<!-- image -->\\n\\n<!-- image -->\\n\\n## M. Syah Indra Aman\\n\\nDirector and Chief Legal Officer Director and Chief Legal Officer\\n\\nManagement\\n\\nReport\\n\\nLaporan\\n\\nManajemen\\n\\nOur\\n\\nBusinesses\\n\\nOur\\n\\nBusinesses\\n\\nSustainable Development Pembangunan yang Berkelanjutan\\n\\nPartners in the Capital Market Mitra Pasar Modal\\n\\n<!-- image -->\\n\\n<!-- image -->\\n\\n## Training and Competency Development\\n\\nPelatihan dan Pengembangan Kompetensi None I Tidak ada\\n\\n## Affiliated Relationship I Hubungan Afiliasi\\n\\nNone I Tidak ada\\n\\n## Domicile I Domisili\\n\\nJakarta I Jakarta\\n\\nShare Ownership I Jumlah Kepemilikan Saham 0\\n\\n·\\n\\nLawyer, Minang, Warman, Sofyan SH & Associates\\n\\n·\\n\\nLawyer, Lubis, Ganie & Surowidjojo\\n\\n<!-- image -->\")]\u001b[0m\u001b[32;1m\u001b[1;3mGaribaldi Thohir holds a Bachelor of Business Administration degree from the University of Southern California, USA.\u001b[0m\n",
      "\n",
      "\u001b[1m> Finished chain.\u001b[0m\n",
      "1 {'data': {'major': 'Business Administration', 'university': 'University of Southern California', 'country': 'United States'}, 'sources': [121, 123, 124, 127]}\n",
      "2 {'data': {'major': 'Business Administration', 'university': 'University of Southern California', 'country': 'United States', 'ceo_name': 'Garibaldi Thohir', 'company': 'ID_ADRO_AR_2022'}, 'sources': [121, 123, 124, 127]}\n"
     ]
    },
    {
     "name": "stderr",
     "output_type": "stream",
     "text": [
      "Processing Companies: 100%|██████████| 1/1 [00:38<00:00, 38.12s/it]\n"
     ]
    }
   ],
   "source": [
    "# SECOND TURN\n",
    "\n",
    "# QUERY PROMPT\n",
    "query_prompt_2 = \"\"\"\n",
    "Retrieve the bachelor education degree of {ceo_name} which is ceo of {company} from the company's report. \n",
    "\"\"\"\n",
    "\n",
    "# SCHEMA\n",
    "class EducationEntry(BaseModel):\n",
    "    major: str = Field(description=\"The academic program or field of study pursued by the ceo.\", example=\"Business Administration\")\n",
    "    university: str = Field(description=\"The name of the university where the ceo pursued their education.\", example=\"Harvard University\")\n",
    "    country: str = Field(description=\"The country where the ceo completed their education.\", example=\"United States\")\n",
    "\n",
    "# Proses second turn\n",
    "process_turn(\n",
    "    query_prompt=query_prompt_2,\n",
    "    schema_class=EducationEntry,\n",
    "    input_dir=\"data/JSON\",\n",
    "    output_dir=\"results_2nd_turn\",\n",
    "    input_file=\"results_1st_turn/result.xlsx\",\n",
    "    glob_path=\"*/*.json\"\n",
    ")"
   ]
  }
 ],
 "metadata": {
  "kernelspec": {
   "display_name": "env",
   "language": "python",
   "name": "python3"
  },
  "language_info": {
   "codemirror_mode": {
    "name": "ipython",
    "version": 3
   },
   "file_extension": ".py",
   "mimetype": "text/x-python",
   "name": "python",
   "nbconvert_exporter": "python",
   "pygments_lexer": "ipython3",
   "version": "3.10.7"
  }
 },
 "nbformat": 4,
 "nbformat_minor": 2
}
